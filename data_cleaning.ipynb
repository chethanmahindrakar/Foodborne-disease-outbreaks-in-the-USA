{
 "cells": [
  {
   "cell_type": "code",
   "execution_count": 1,
   "metadata": {
    "id": "c3xlF0CygCst"
   },
   "outputs": [],
   "source": [
    "import pandas as pd\n",
    "import numpy as np\n",
    "\n",
    "import seaborn as sns\n",
    "import matplotlib.pyplot as plt\n",
    "import plotly.express as px"
   ]
  },
  {
   "cell_type": "code",
   "execution_count": 3,
   "metadata": {
    "id": "TGuClJ20gCs0",
    "outputId": "e8aef936-68f9-4be2-c790-b4f1ca576e91",
    "scrolled": true
   },
   "outputs": [
    {
     "name": "stdout",
     "output_type": "stream",
     "text": [
      "null values for ingredient are  17243\n",
      "total values for ingredient are  19119\n",
      "percentage of null values for ingredients 90.18777132695224\n",
      "null values for serotype are  15212\n",
      "total values for serotype are  19119\n",
      "percentage of null values for serotype 79.56483079658977\n",
      "null values for food are  8963\n",
      "total values for food are  19119\n",
      "percentage of null values for food 46.88006694910822\n"
     ]
    }
   ],
   "source": [
    "outbreaks1 = pd.read_csv(\"original.csv\")\n",
    "outbreaks1.isnull().sum()\n",
    "# The location column is cleaned up and all the values are added up to the first contextual data description.\n",
    "a = sum(outbreaks['Ingredient'].isnull())\n",
    "print('null values for ingredient are ', a)\n",
    "b = len(outbreaks['Ingredient'])\n",
    "print('total values for ingredient are ', b)\n",
    "print('percentage of null values for ingredients',(a/b)*100)\n",
    "#90 percent values are null for ingredients. therfore row is omitoted.\n",
    "c = sum(outbreaks['Serotype/Genotype'].isnull())\n",
    "print('null values for serotype are ', c)\n",
    "d = len(outbreaks['Serotype/Genotype'])\n",
    "print('total values for serotype are ', d)\n",
    "print('percentage of null values for serotype',(c/d)*100)\n",
    "#79 percent values are null for serotype. Hence column is omitted.\n",
    "e = sum(outbreaks['Food'].isnull())\n",
    "print('null values for food are ', e)\n",
    "f = len(outbreaks['Food'])\n",
    "print('total values for food are ', f)\n",
    "print('percentage of null values for food',(e/f)*100)\n",
    "#about 46 percent values for food are null. Hence, food is considered."
   ]
  },
  {
   "cell_type": "code",
   "execution_count": 4,
   "metadata": {
    "id": "O5dClDoSgCs2",
    "outputId": "76cbafe4-a849-47c1-952c-c690726f9430"
   },
   "outputs": [
    {
     "data": {
      "text/plain": [
       "Year                   0\n",
       "Month                  0\n",
       "State                  0\n",
       "Location            2166\n",
       "Food                8963\n",
       "Species             6619\n",
       "Status              6619\n",
       "Illnesses              0\n",
       "Hospitalizations    3625\n",
       "Fatalities          3601\n",
       "dtype: int64"
      ]
     },
     "execution_count": 4,
     "metadata": {},
     "output_type": "execute_result"
    }
   ],
   "source": [
    "outbreaks1 = outbreaks.drop(\"Ingredient\" , axis = 1)\n",
    "outbreaks1 = outbreaks1.drop(\"Serotype/Genotype\" , axis = 1)\n",
    "outbreaks1.isnull().sum()\n"
   ]
  },
  {
   "cell_type": "code",
   "execution_count": 5,
   "metadata": {
    "id": "-AZZYBJ9gCs3",
    "outputId": "dd6736ae-a95f-4b0d-ff35-6ff9d3f02888"
   },
   "outputs": [
    {
     "data": {
      "text/plain": [
       "Restaurant                                                10448\n",
       "Private Home/Residence                                     1681\n",
       "Catering Service                                           1089\n",
       "Banquet Facility                                            367\n",
       "Fast Food Restaurant                                        366\n",
       "                                                          ...  \n",
       "Other (Describe In Remarks); Unknown                          1\n",
       "Grocery Store; Religious Facility                             1\n",
       "Office/Indoor Workplace; School/College/University            1\n",
       "Restaurant; Hospital; School/College/University               1\n",
       "Restaurant; Private Home/Residence; Religious Facility        1\n",
       "Name: Location, Length: 161, dtype: int64"
      ]
     },
     "execution_count": 5,
     "metadata": {},
     "output_type": "execute_result"
    }
   ],
   "source": [
    "outbreaks1['Location'].value_counts()"
   ]
  },
  {
   "cell_type": "code",
   "execution_count": 6,
   "metadata": {
    "id": "dizzj9nJgCs3"
   },
   "outputs": [],
   "source": [
    "outbreaks1['Location'].value_counts(dropna=False)\n",
    "#2166 NaN values encountered. Replacing all of that with unknown\n",
    "outbreaks1['Location'].fillna(value='Unknown',inplace=True)"
   ]
  },
  {
   "cell_type": "code",
   "execution_count": 7,
   "metadata": {
    "id": "WFzn_6ZAgCs3",
    "outputId": "18e5eec7-d081-40f8-d192-f28075c76679"
   },
   "outputs": [
    {
     "data": {
      "text/plain": [
       "Restaurant                                                10448\n",
       "Unknown                                                    2521\n",
       "Private Home/Residence                                     1681\n",
       "Catering Service                                           1089\n",
       "Banquet Facility                                            367\n",
       "                                                          ...  \n",
       "Other (Describe In Remarks); Unknown                          1\n",
       "Grocery Store; Religious Facility                             1\n",
       "Office/Indoor Workplace; School/College/University            1\n",
       "Restaurant; Hospital; School/College/University               1\n",
       "Restaurant; Private Home/Residence; Religious Facility        1\n",
       "Name: Location, Length: 161, dtype: int64"
      ]
     },
     "execution_count": 7,
     "metadata": {},
     "output_type": "execute_result"
    }
   ],
   "source": [
    "outbreaks1['Location'].value_counts()"
   ]
  },
  {
   "cell_type": "code",
   "execution_count": null,
   "metadata": {
    "id": "7eZ93GuVgCs4"
   },
   "outputs": [],
   "source": []
  },
  {
   "cell_type": "code",
   "execution_count": 8,
   "metadata": {
    "id": "CDPRcZ6UgCs4",
    "outputId": "b1f33d8b-124f-4df4-b245-89e2c9695d3b"
   },
   "outputs": [
    {
     "data": {
      "text/plain": [
       "Confirmed    8107\n",
       "Unknown      6619\n",
       "Suspected    4393\n",
       "Name: Status, dtype: int64"
      ]
     },
     "execution_count": 8,
     "metadata": {},
     "output_type": "execute_result"
    }
   ],
   "source": [
    "outbreaks1['Status'].value_counts(dropna=False)\n",
    "outbreaks1['Status'].fillna(value='Unknown',inplace=True)\n",
    "status_split = outbreaks1['Status'].str.split('; ')\n",
    "outbreaks1['Status'] = status_split.str.get(0)\n",
    "outbreaks1['Status'].value_counts(dropna=False)"
   ]
  },
  {
   "cell_type": "code",
   "execution_count": 9,
   "metadata": {
    "id": "u1ar5nVPgCs5",
    "outputId": "d5b51bcd-c779-413f-9bbc-07511437b6db"
   },
   "outputs": [
    {
     "data": {
      "text/plain": [
       "Norovirus genogroup I                                                                                                                                                                                                                                                              2744\n",
       "Salmonella enterica                                                                                                                                                                                                                                                                2303\n",
       "Norovirus genogroup II                                                                                                                                                                                                                                                             1424\n",
       "Norovirus unknown                                                                                                                                                                                                                                                                   790\n",
       "Clostridium perfringens                                                                                                                                                                                                                                                             732\n",
       "                                                                                                                                                                                                                                                                                   ... \n",
       "Campylobacter unknown; Escherichia coli, Shiga toxin-producing                                                                                                                                                                                                                        1\n",
       "Paralytic shellfish poison; Neurotoxic shellfish poison                                                                                                                                                                                                                               1\n",
       "Salmonella enterica; Salmonella enterica; Salmonella enterica; Salmonella enterica; Salmonella enterica; Salmonella enterica; Salmonella enterica; Salmonella enterica; Salmonella enterica; Salmonella enterica; Salmonella enterica; Salmonella enterica; Salmonella enterica       1\n",
       "Shigella                                                                                                                                                                                                                                                                              1\n",
       "Shigella; Salmonella enterica; Escherichia coli, Shiga toxin-producing; Norovirus                                                                                                                                                                                                     1\n",
       "Name: Species, Length: 201, dtype: int64"
      ]
     },
     "execution_count": 9,
     "metadata": {},
     "output_type": "execute_result"
    }
   ],
   "source": [
    "outbreaks1['Species'].value_counts()"
   ]
  },
  {
   "cell_type": "code",
   "execution_count": 10,
   "metadata": {
    "id": "O_P3NGxHgCs5",
    "outputId": "4fa65d51-7f37-49f8-96ae-e5964a205828"
   },
   "outputs": [
    {
     "data": {
      "text/plain": [
       "Unknown                                                                                                                                                                                                                                                                            6635\n",
       "Norovirus genogroup I                                                                                                                                                                                                                                                              2744\n",
       "Salmonella enterica                                                                                                                                                                                                                                                                2303\n",
       "Norovirus genogroup II                                                                                                                                                                                                                                                             1424\n",
       "Norovirus unknown                                                                                                                                                                                                                                                                   790\n",
       "                                                                                                                                                                                                                                                                                   ... \n",
       "Campylobacter unknown; Escherichia coli, Shiga toxin-producing                                                                                                                                                                                                                        1\n",
       "Paralytic shellfish poison; Neurotoxic shellfish poison                                                                                                                                                                                                                               1\n",
       "Salmonella enterica; Salmonella enterica; Salmonella enterica; Salmonella enterica; Salmonella enterica; Salmonella enterica; Salmonella enterica; Salmonella enterica; Salmonella enterica; Salmonella enterica; Salmonella enterica; Salmonella enterica; Salmonella enterica       1\n",
       "Shigella                                                                                                                                                                                                                                                                              1\n",
       "Shigella; Salmonella enterica; Escherichia coli, Shiga toxin-producing; Norovirus                                                                                                                                                                                                     1\n",
       "Name: Species, Length: 201, dtype: int64"
      ]
     },
     "execution_count": 10,
     "metadata": {},
     "output_type": "execute_result"
    }
   ],
   "source": [
    "outbreaks1['Species'].value_counts(dropna=False)\n",
    "outbreaks1['Species'].fillna(value='Unknown',inplace=True)\n",
    "outbreaks1['Species'].value_counts(dropna=False)"
   ]
  },
  {
   "cell_type": "code",
   "execution_count": 11,
   "metadata": {
    "id": "M1RMVL3rgCs5",
    "outputId": "7d0b16ca-f5cd-499e-9124-545d1a5082c0"
   },
   "outputs": [
    {
     "data": {
      "text/plain": [
       "Unknown                                                8963\n",
       "Multiple Foods                                          206\n",
       "Oysters, Raw                                            165\n",
       "Ground Beef, Hamburger                                  127\n",
       "Salad, Unspecified                                      118\n",
       "                                                       ... \n",
       "Other Food; Sandwich, Ham; Deli Meat, Sliced Turkey       1\n",
       "Potato Salad; Pudding, Bread                              1\n",
       "Mixed Fruit; Roast Beef, Unspecified                      1\n",
       "Butter; Carrots, Unspecified                              1\n",
       "Lasagna, Beef; Fettucine Alfredo                          1\n",
       "Name: Food, Length: 3128, dtype: int64"
      ]
     },
     "execution_count": 11,
     "metadata": {},
     "output_type": "execute_result"
    }
   ],
   "source": [
    "outbreaks1['Food'].value_counts(dropna=False)\n",
    "outbreaks1['Food'].fillna(value='Unknown',inplace=True)\n",
    "outbreaks1['Food'].value_counts(dropna=False)"
   ]
  },
  {
   "cell_type": "code",
   "execution_count": 12,
   "metadata": {
    "id": "PKvqSFZmgCs6",
    "outputId": "912bee0b-95ea-444a-ee62-c7fb69166ff3"
   },
   "outputs": [
    {
     "data": {
      "text/plain": [
       "Year                   0\n",
       "Month                  0\n",
       "State                  0\n",
       "Location               0\n",
       "Food                   0\n",
       "Species                0\n",
       "Status                 0\n",
       "Illnesses              0\n",
       "Hospitalizations    3625\n",
       "Fatalities          3601\n",
       "dtype: int64"
      ]
     },
     "execution_count": 12,
     "metadata": {},
     "output_type": "execute_result"
    }
   ],
   "source": [
    "outbreaks1.isnull().sum()"
   ]
  },
  {
   "cell_type": "code",
   "execution_count": 13,
   "metadata": {
    "id": "F0Iq6gWogCs6",
    "outputId": "b6d79c7b-d857-4075-bbdb-354681db6e13"
   },
   "outputs": [
    {
     "name": "stderr",
     "output_type": "stream",
     "text": [
      "C:\\ProgramData\\Anaconda3\\lib\\site-packages\\ipykernel_launcher.py:12: SettingWithCopyWarning: \n",
      "A value is trying to be set on a copy of a slice from a DataFrame\n",
      "\n",
      "See the caveats in the documentation: https://pandas.pydata.org/pandas-docs/stable/user_guide/indexing.html#returning-a-view-versus-a-copy\n",
      "  if sys.path[0] == '':\n",
      "C:\\ProgramData\\Anaconda3\\lib\\site-packages\\ipykernel_launcher.py:14: SettingWithCopyWarning: \n",
      "A value is trying to be set on a copy of a slice from a DataFrame\n",
      "\n",
      "See the caveats in the documentation: https://pandas.pydata.org/pandas-docs/stable/user_guide/indexing.html#returning-a-view-versus-a-copy\n",
      "  \n",
      "C:\\ProgramData\\Anaconda3\\lib\\site-packages\\ipykernel_launcher.py:20: SettingWithCopyWarning: \n",
      "A value is trying to be set on a copy of a slice from a DataFrame\n",
      "\n",
      "See the caveats in the documentation: https://pandas.pydata.org/pandas-docs/stable/user_guide/indexing.html#returning-a-view-versus-a-copy\n",
      "C:\\ProgramData\\Anaconda3\\lib\\site-packages\\ipykernel_launcher.py:106: SettingWithCopyWarning: \n",
      "A value is trying to be set on a copy of a slice from a DataFrame\n",
      "\n",
      "See the caveats in the documentation: https://pandas.pydata.org/pandas-docs/stable/user_guide/indexing.html#returning-a-view-versus-a-copy\n",
      "C:\\ProgramData\\Anaconda3\\lib\\site-packages\\ipykernel_launcher.py:24: SettingWithCopyWarning: \n",
      "A value is trying to be set on a copy of a slice from a DataFrame\n",
      "\n",
      "See the caveats in the documentation: https://pandas.pydata.org/pandas-docs/stable/user_guide/indexing.html#returning-a-view-versus-a-copy\n",
      "C:\\ProgramData\\Anaconda3\\lib\\site-packages\\ipykernel_launcher.py:28: SettingWithCopyWarning: \n",
      "A value is trying to be set on a copy of a slice from a DataFrame\n",
      "\n",
      "See the caveats in the documentation: https://pandas.pydata.org/pandas-docs/stable/user_guide/indexing.html#returning-a-view-versus-a-copy\n",
      "C:\\ProgramData\\Anaconda3\\lib\\site-packages\\ipykernel_launcher.py:30: SettingWithCopyWarning: \n",
      "A value is trying to be set on a copy of a slice from a DataFrame\n",
      "\n",
      "See the caveats in the documentation: https://pandas.pydata.org/pandas-docs/stable/user_guide/indexing.html#returning-a-view-versus-a-copy\n",
      "C:\\ProgramData\\Anaconda3\\lib\\site-packages\\ipykernel_launcher.py:42: SettingWithCopyWarning: \n",
      "A value is trying to be set on a copy of a slice from a DataFrame\n",
      "\n",
      "See the caveats in the documentation: https://pandas.pydata.org/pandas-docs/stable/user_guide/indexing.html#returning-a-view-versus-a-copy\n",
      "C:\\ProgramData\\Anaconda3\\lib\\site-packages\\ipykernel_launcher.py:44: SettingWithCopyWarning: \n",
      "A value is trying to be set on a copy of a slice from a DataFrame\n",
      "\n",
      "See the caveats in the documentation: https://pandas.pydata.org/pandas-docs/stable/user_guide/indexing.html#returning-a-view-versus-a-copy\n",
      "C:\\ProgramData\\Anaconda3\\lib\\site-packages\\ipykernel_launcher.py:46: SettingWithCopyWarning: \n",
      "A value is trying to be set on a copy of a slice from a DataFrame\n",
      "\n",
      "See the caveats in the documentation: https://pandas.pydata.org/pandas-docs/stable/user_guide/indexing.html#returning-a-view-versus-a-copy\n",
      "C:\\ProgramData\\Anaconda3\\lib\\site-packages\\ipykernel_launcher.py:48: SettingWithCopyWarning: \n",
      "A value is trying to be set on a copy of a slice from a DataFrame\n",
      "\n",
      "See the caveats in the documentation: https://pandas.pydata.org/pandas-docs/stable/user_guide/indexing.html#returning-a-view-versus-a-copy\n",
      "C:\\ProgramData\\Anaconda3\\lib\\site-packages\\ipykernel_launcher.py:112: SettingWithCopyWarning: \n",
      "A value is trying to be set on a copy of a slice from a DataFrame\n",
      "\n",
      "See the caveats in the documentation: https://pandas.pydata.org/pandas-docs/stable/user_guide/indexing.html#returning-a-view-versus-a-copy\n",
      "C:\\ProgramData\\Anaconda3\\lib\\site-packages\\ipykernel_launcher.py:66: SettingWithCopyWarning: \n",
      "A value is trying to be set on a copy of a slice from a DataFrame\n",
      "\n",
      "See the caveats in the documentation: https://pandas.pydata.org/pandas-docs/stable/user_guide/indexing.html#returning-a-view-versus-a-copy\n",
      "C:\\ProgramData\\Anaconda3\\lib\\site-packages\\ipykernel_launcher.py:68: SettingWithCopyWarning: \n",
      "A value is trying to be set on a copy of a slice from a DataFrame\n",
      "\n",
      "See the caveats in the documentation: https://pandas.pydata.org/pandas-docs/stable/user_guide/indexing.html#returning-a-view-versus-a-copy\n",
      "C:\\ProgramData\\Anaconda3\\lib\\site-packages\\ipykernel_launcher.py:72: SettingWithCopyWarning: \n",
      "A value is trying to be set on a copy of a slice from a DataFrame\n",
      "\n",
      "See the caveats in the documentation: https://pandas.pydata.org/pandas-docs/stable/user_guide/indexing.html#returning-a-view-versus-a-copy\n",
      "C:\\ProgramData\\Anaconda3\\lib\\site-packages\\ipykernel_launcher.py:76: SettingWithCopyWarning: \n",
      "A value is trying to be set on a copy of a slice from a DataFrame\n",
      "\n",
      "See the caveats in the documentation: https://pandas.pydata.org/pandas-docs/stable/user_guide/indexing.html#returning-a-view-versus-a-copy\n",
      "C:\\ProgramData\\Anaconda3\\lib\\site-packages\\ipykernel_launcher.py:78: SettingWithCopyWarning: \n",
      "A value is trying to be set on a copy of a slice from a DataFrame\n",
      "\n",
      "See the caveats in the documentation: https://pandas.pydata.org/pandas-docs/stable/user_guide/indexing.html#returning-a-view-versus-a-copy\n",
      "C:\\ProgramData\\Anaconda3\\lib\\site-packages\\ipykernel_launcher.py:88: SettingWithCopyWarning: \n",
      "A value is trying to be set on a copy of a slice from a DataFrame\n",
      "\n",
      "See the caveats in the documentation: https://pandas.pydata.org/pandas-docs/stable/user_guide/indexing.html#returning-a-view-versus-a-copy\n",
      "C:\\ProgramData\\Anaconda3\\lib\\site-packages\\ipykernel_launcher.py:94: SettingWithCopyWarning: \n",
      "A value is trying to be set on a copy of a slice from a DataFrame\n",
      "\n",
      "See the caveats in the documentation: https://pandas.pydata.org/pandas-docs/stable/user_guide/indexing.html#returning-a-view-versus-a-copy\n",
      "C:\\ProgramData\\Anaconda3\\lib\\site-packages\\ipykernel_launcher.py:96: SettingWithCopyWarning: \n",
      "A value is trying to be set on a copy of a slice from a DataFrame\n",
      "\n",
      "See the caveats in the documentation: https://pandas.pydata.org/pandas-docs/stable/user_guide/indexing.html#returning-a-view-versus-a-copy\n",
      "C:\\ProgramData\\Anaconda3\\lib\\site-packages\\ipykernel_launcher.py:100: SettingWithCopyWarning: \n",
      "A value is trying to be set on a copy of a slice from a DataFrame\n",
      "\n",
      "See the caveats in the documentation: https://pandas.pydata.org/pandas-docs/stable/user_guide/indexing.html#returning-a-view-versus-a-copy\n",
      "C:\\ProgramData\\Anaconda3\\lib\\site-packages\\ipykernel_launcher.py:16: SettingWithCopyWarning: \n",
      "A value is trying to be set on a copy of a slice from a DataFrame\n",
      "\n",
      "See the caveats in the documentation: https://pandas.pydata.org/pandas-docs/stable/user_guide/indexing.html#returning-a-view-versus-a-copy\n",
      "  app.launch_new_instance()\n",
      "C:\\ProgramData\\Anaconda3\\lib\\site-packages\\ipykernel_launcher.py:50: SettingWithCopyWarning: \n",
      "A value is trying to be set on a copy of a slice from a DataFrame\n",
      "\n",
      "See the caveats in the documentation: https://pandas.pydata.org/pandas-docs/stable/user_guide/indexing.html#returning-a-view-versus-a-copy\n",
      "C:\\ProgramData\\Anaconda3\\lib\\site-packages\\ipykernel_launcher.py:56: SettingWithCopyWarning: \n",
      "A value is trying to be set on a copy of a slice from a DataFrame\n",
      "\n",
      "See the caveats in the documentation: https://pandas.pydata.org/pandas-docs/stable/user_guide/indexing.html#returning-a-view-versus-a-copy\n",
      "C:\\ProgramData\\Anaconda3\\lib\\site-packages\\ipykernel_launcher.py:60: SettingWithCopyWarning: \n",
      "A value is trying to be set on a copy of a slice from a DataFrame\n",
      "\n",
      "See the caveats in the documentation: https://pandas.pydata.org/pandas-docs/stable/user_guide/indexing.html#returning-a-view-versus-a-copy\n",
      "C:\\ProgramData\\Anaconda3\\lib\\site-packages\\ipykernel_launcher.py:62: SettingWithCopyWarning: \n",
      "A value is trying to be set on a copy of a slice from a DataFrame\n",
      "\n",
      "See the caveats in the documentation: https://pandas.pydata.org/pandas-docs/stable/user_guide/indexing.html#returning-a-view-versus-a-copy\n",
      "C:\\ProgramData\\Anaconda3\\lib\\site-packages\\ipykernel_launcher.py:4: SettingWithCopyWarning: \n",
      "A value is trying to be set on a copy of a slice from a DataFrame\n",
      "\n",
      "See the caveats in the documentation: https://pandas.pydata.org/pandas-docs/stable/user_guide/indexing.html#returning-a-view-versus-a-copy\n",
      "  after removing the cwd from sys.path.\n",
      "C:\\ProgramData\\Anaconda3\\lib\\site-packages\\ipykernel_launcher.py:10: SettingWithCopyWarning: \n",
      "A value is trying to be set on a copy of a slice from a DataFrame\n",
      "\n",
      "See the caveats in the documentation: https://pandas.pydata.org/pandas-docs/stable/user_guide/indexing.html#returning-a-view-versus-a-copy\n",
      "  # Remove the CWD from sys.path while we load stuff.\n",
      "C:\\ProgramData\\Anaconda3\\lib\\site-packages\\ipykernel_launcher.py:64: SettingWithCopyWarning: \n",
      "A value is trying to be set on a copy of a slice from a DataFrame\n",
      "\n",
      "See the caveats in the documentation: https://pandas.pydata.org/pandas-docs/stable/user_guide/indexing.html#returning-a-view-versus-a-copy\n",
      "C:\\ProgramData\\Anaconda3\\lib\\site-packages\\ipykernel_launcher.py:86: SettingWithCopyWarning: \n",
      "A value is trying to be set on a copy of a slice from a DataFrame\n",
      "\n",
      "See the caveats in the documentation: https://pandas.pydata.org/pandas-docs/stable/user_guide/indexing.html#returning-a-view-versus-a-copy\n",
      "C:\\ProgramData\\Anaconda3\\lib\\site-packages\\ipykernel_launcher.py:90: SettingWithCopyWarning: \n",
      "A value is trying to be set on a copy of a slice from a DataFrame\n",
      "\n",
      "See the caveats in the documentation: https://pandas.pydata.org/pandas-docs/stable/user_guide/indexing.html#returning-a-view-versus-a-copy\n",
      "C:\\ProgramData\\Anaconda3\\lib\\site-packages\\ipykernel_launcher.py:22: SettingWithCopyWarning: \n",
      "A value is trying to be set on a copy of a slice from a DataFrame\n",
      "\n",
      "See the caveats in the documentation: https://pandas.pydata.org/pandas-docs/stable/user_guide/indexing.html#returning-a-view-versus-a-copy\n",
      "C:\\ProgramData\\Anaconda3\\lib\\site-packages\\ipykernel_launcher.py:32: SettingWithCopyWarning: \n",
      "A value is trying to be set on a copy of a slice from a DataFrame\n",
      "\n",
      "See the caveats in the documentation: https://pandas.pydata.org/pandas-docs/stable/user_guide/indexing.html#returning-a-view-versus-a-copy\n",
      "C:\\ProgramData\\Anaconda3\\lib\\site-packages\\ipykernel_launcher.py:34: SettingWithCopyWarning: \n",
      "A value is trying to be set on a copy of a slice from a DataFrame\n",
      "\n",
      "See the caveats in the documentation: https://pandas.pydata.org/pandas-docs/stable/user_guide/indexing.html#returning-a-view-versus-a-copy\n",
      "C:\\ProgramData\\Anaconda3\\lib\\site-packages\\ipykernel_launcher.py:38: SettingWithCopyWarning: \n",
      "A value is trying to be set on a copy of a slice from a DataFrame\n",
      "\n",
      "See the caveats in the documentation: https://pandas.pydata.org/pandas-docs/stable/user_guide/indexing.html#returning-a-view-versus-a-copy\n",
      "C:\\ProgramData\\Anaconda3\\lib\\site-packages\\ipykernel_launcher.py:36: SettingWithCopyWarning: \n",
      "A value is trying to be set on a copy of a slice from a DataFrame\n",
      "\n",
      "See the caveats in the documentation: https://pandas.pydata.org/pandas-docs/stable/user_guide/indexing.html#returning-a-view-versus-a-copy\n",
      "C:\\ProgramData\\Anaconda3\\lib\\site-packages\\ipykernel_launcher.py:40: SettingWithCopyWarning: \n",
      "A value is trying to be set on a copy of a slice from a DataFrame\n",
      "\n",
      "See the caveats in the documentation: https://pandas.pydata.org/pandas-docs/stable/user_guide/indexing.html#returning-a-view-versus-a-copy\n"
     ]
    },
    {
     "name": "stderr",
     "output_type": "stream",
     "text": [
      "C:\\ProgramData\\Anaconda3\\lib\\site-packages\\ipykernel_launcher.py:84: SettingWithCopyWarning: \n",
      "A value is trying to be set on a copy of a slice from a DataFrame\n",
      "\n",
      "See the caveats in the documentation: https://pandas.pydata.org/pandas-docs/stable/user_guide/indexing.html#returning-a-view-versus-a-copy\n",
      "C:\\ProgramData\\Anaconda3\\lib\\site-packages\\ipykernel_launcher.py:6: SettingWithCopyWarning: \n",
      "A value is trying to be set on a copy of a slice from a DataFrame\n",
      "\n",
      "See the caveats in the documentation: https://pandas.pydata.org/pandas-docs/stable/user_guide/indexing.html#returning-a-view-versus-a-copy\n",
      "  \n",
      "C:\\ProgramData\\Anaconda3\\lib\\site-packages\\ipykernel_launcher.py:52: SettingWithCopyWarning: \n",
      "A value is trying to be set on a copy of a slice from a DataFrame\n",
      "\n",
      "See the caveats in the documentation: https://pandas.pydata.org/pandas-docs/stable/user_guide/indexing.html#returning-a-view-versus-a-copy\n",
      "C:\\ProgramData\\Anaconda3\\lib\\site-packages\\ipykernel_launcher.py:54: SettingWithCopyWarning: \n",
      "A value is trying to be set on a copy of a slice from a DataFrame\n",
      "\n",
      "See the caveats in the documentation: https://pandas.pydata.org/pandas-docs/stable/user_guide/indexing.html#returning-a-view-versus-a-copy\n",
      "C:\\ProgramData\\Anaconda3\\lib\\site-packages\\ipykernel_launcher.py:74: SettingWithCopyWarning: \n",
      "A value is trying to be set on a copy of a slice from a DataFrame\n",
      "\n",
      "See the caveats in the documentation: https://pandas.pydata.org/pandas-docs/stable/user_guide/indexing.html#returning-a-view-versus-a-copy\n",
      "C:\\ProgramData\\Anaconda3\\lib\\site-packages\\ipykernel_launcher.py:8: SettingWithCopyWarning: \n",
      "A value is trying to be set on a copy of a slice from a DataFrame\n",
      "\n",
      "See the caveats in the documentation: https://pandas.pydata.org/pandas-docs/stable/user_guide/indexing.html#returning-a-view-versus-a-copy\n",
      "  \n",
      "C:\\ProgramData\\Anaconda3\\lib\\site-packages\\ipykernel_launcher.py:26: SettingWithCopyWarning: \n",
      "A value is trying to be set on a copy of a slice from a DataFrame\n",
      "\n",
      "See the caveats in the documentation: https://pandas.pydata.org/pandas-docs/stable/user_guide/indexing.html#returning-a-view-versus-a-copy\n",
      "C:\\ProgramData\\Anaconda3\\lib\\site-packages\\ipykernel_launcher.py:58: SettingWithCopyWarning: \n",
      "A value is trying to be set on a copy of a slice from a DataFrame\n",
      "\n",
      "See the caveats in the documentation: https://pandas.pydata.org/pandas-docs/stable/user_guide/indexing.html#returning-a-view-versus-a-copy\n",
      "C:\\ProgramData\\Anaconda3\\lib\\site-packages\\ipykernel_launcher.py:70: SettingWithCopyWarning: \n",
      "A value is trying to be set on a copy of a slice from a DataFrame\n",
      "\n",
      "See the caveats in the documentation: https://pandas.pydata.org/pandas-docs/stable/user_guide/indexing.html#returning-a-view-versus-a-copy\n",
      "C:\\ProgramData\\Anaconda3\\lib\\site-packages\\ipykernel_launcher.py:92: SettingWithCopyWarning: \n",
      "A value is trying to be set on a copy of a slice from a DataFrame\n",
      "\n",
      "See the caveats in the documentation: https://pandas.pydata.org/pandas-docs/stable/user_guide/indexing.html#returning-a-view-versus-a-copy\n",
      "C:\\ProgramData\\Anaconda3\\lib\\site-packages\\ipykernel_launcher.py:108: SettingWithCopyWarning: \n",
      "A value is trying to be set on a copy of a slice from a DataFrame\n",
      "\n",
      "See the caveats in the documentation: https://pandas.pydata.org/pandas-docs/stable/user_guide/indexing.html#returning-a-view-versus-a-copy\n",
      "C:\\ProgramData\\Anaconda3\\lib\\site-packages\\ipykernel_launcher.py:98: SettingWithCopyWarning: \n",
      "A value is trying to be set on a copy of a slice from a DataFrame\n",
      "\n",
      "See the caveats in the documentation: https://pandas.pydata.org/pandas-docs/stable/user_guide/indexing.html#returning-a-view-versus-a-copy\n",
      "C:\\ProgramData\\Anaconda3\\lib\\site-packages\\ipykernel_launcher.py:82: SettingWithCopyWarning: \n",
      "A value is trying to be set on a copy of a slice from a DataFrame\n",
      "\n",
      "See the caveats in the documentation: https://pandas.pydata.org/pandas-docs/stable/user_guide/indexing.html#returning-a-view-versus-a-copy\n",
      "C:\\ProgramData\\Anaconda3\\lib\\site-packages\\ipykernel_launcher.py:80: SettingWithCopyWarning: \n",
      "A value is trying to be set on a copy of a slice from a DataFrame\n",
      "\n",
      "See the caveats in the documentation: https://pandas.pydata.org/pandas-docs/stable/user_guide/indexing.html#returning-a-view-versus-a-copy\n",
      "C:\\ProgramData\\Anaconda3\\lib\\site-packages\\ipykernel_launcher.py:102: SettingWithCopyWarning: \n",
      "A value is trying to be set on a copy of a slice from a DataFrame\n",
      "\n",
      "See the caveats in the documentation: https://pandas.pydata.org/pandas-docs/stable/user_guide/indexing.html#returning-a-view-versus-a-copy\n",
      "C:\\ProgramData\\Anaconda3\\lib\\site-packages\\ipykernel_launcher.py:18: SettingWithCopyWarning: \n",
      "A value is trying to be set on a copy of a slice from a DataFrame\n",
      "\n",
      "See the caveats in the documentation: https://pandas.pydata.org/pandas-docs/stable/user_guide/indexing.html#returning-a-view-versus-a-copy\n",
      "C:\\ProgramData\\Anaconda3\\lib\\site-packages\\ipykernel_launcher.py:104: SettingWithCopyWarning: \n",
      "A value is trying to be set on a copy of a slice from a DataFrame\n",
      "\n",
      "See the caveats in the documentation: https://pandas.pydata.org/pandas-docs/stable/user_guide/indexing.html#returning-a-view-versus-a-copy\n",
      "C:\\ProgramData\\Anaconda3\\lib\\site-packages\\ipykernel_launcher.py:110: SettingWithCopyWarning: \n",
      "A value is trying to be set on a copy of a slice from a DataFrame\n",
      "\n",
      "See the caveats in the documentation: https://pandas.pydata.org/pandas-docs/stable/user_guide/indexing.html#returning-a-view-versus-a-copy\n"
     ]
    },
    {
     "data": {
      "text/html": [
       "<div>\n",
       "<style scoped>\n",
       "    .dataframe tbody tr th:only-of-type {\n",
       "        vertical-align: middle;\n",
       "    }\n",
       "\n",
       "    .dataframe tbody tr th {\n",
       "        vertical-align: top;\n",
       "    }\n",
       "\n",
       "    .dataframe thead th {\n",
       "        text-align: right;\n",
       "    }\n",
       "</style>\n",
       "<table border=\"1\" class=\"dataframe\">\n",
       "  <thead>\n",
       "    <tr style=\"text-align: right;\">\n",
       "      <th></th>\n",
       "      <th>Year</th>\n",
       "      <th>Month</th>\n",
       "      <th>State</th>\n",
       "      <th>Location</th>\n",
       "      <th>Food</th>\n",
       "      <th>Species</th>\n",
       "      <th>Status</th>\n",
       "      <th>Illnesses</th>\n",
       "      <th>Hospitalizations</th>\n",
       "      <th>Fatalities</th>\n",
       "      <th>FISP</th>\n",
       "    </tr>\n",
       "  </thead>\n",
       "  <tbody>\n",
       "    <tr>\n",
       "      <th>0</th>\n",
       "      <td>1998</td>\n",
       "      <td>January</td>\n",
       "      <td>California</td>\n",
       "      <td>Restaurant</td>\n",
       "      <td>Unknown</td>\n",
       "      <td>Unknown</td>\n",
       "      <td>Unknown</td>\n",
       "      <td>20</td>\n",
       "      <td>0.0</td>\n",
       "      <td>0.0</td>\n",
       "      <td>CA</td>\n",
       "    </tr>\n",
       "    <tr>\n",
       "      <th>1</th>\n",
       "      <td>1998</td>\n",
       "      <td>January</td>\n",
       "      <td>California</td>\n",
       "      <td>Unknown</td>\n",
       "      <td>Custard</td>\n",
       "      <td>Unknown</td>\n",
       "      <td>Unknown</td>\n",
       "      <td>112</td>\n",
       "      <td>0.0</td>\n",
       "      <td>0.0</td>\n",
       "      <td>CA</td>\n",
       "    </tr>\n",
       "    <tr>\n",
       "      <th>2</th>\n",
       "      <td>1998</td>\n",
       "      <td>January</td>\n",
       "      <td>California</td>\n",
       "      <td>Restaurant</td>\n",
       "      <td>Unknown</td>\n",
       "      <td>Unknown</td>\n",
       "      <td>Unknown</td>\n",
       "      <td>35</td>\n",
       "      <td>0.0</td>\n",
       "      <td>0.0</td>\n",
       "      <td>CA</td>\n",
       "    </tr>\n",
       "    <tr>\n",
       "      <th>3</th>\n",
       "      <td>1998</td>\n",
       "      <td>January</td>\n",
       "      <td>California</td>\n",
       "      <td>Restaurant</td>\n",
       "      <td>Fish, Ahi</td>\n",
       "      <td>Scombroid toxin</td>\n",
       "      <td>Confirmed</td>\n",
       "      <td>4</td>\n",
       "      <td>0.0</td>\n",
       "      <td>0.0</td>\n",
       "      <td>CA</td>\n",
       "    </tr>\n",
       "    <tr>\n",
       "      <th>4</th>\n",
       "      <td>1998</td>\n",
       "      <td>January</td>\n",
       "      <td>California</td>\n",
       "      <td>Private Home/Residence</td>\n",
       "      <td>Lasagna, Unspecified; Eggs, Other</td>\n",
       "      <td>Salmonella enterica</td>\n",
       "      <td>Confirmed</td>\n",
       "      <td>26</td>\n",
       "      <td>3.0</td>\n",
       "      <td>0.0</td>\n",
       "      <td>CA</td>\n",
       "    </tr>\n",
       "    <tr>\n",
       "      <th>...</th>\n",
       "      <td>...</td>\n",
       "      <td>...</td>\n",
       "      <td>...</td>\n",
       "      <td>...</td>\n",
       "      <td>...</td>\n",
       "      <td>...</td>\n",
       "      <td>...</td>\n",
       "      <td>...</td>\n",
       "      <td>...</td>\n",
       "      <td>...</td>\n",
       "      <td>...</td>\n",
       "    </tr>\n",
       "    <tr>\n",
       "      <th>19114</th>\n",
       "      <td>2015</td>\n",
       "      <td>December</td>\n",
       "      <td>Wisconsin</td>\n",
       "      <td>Restaurant</td>\n",
       "      <td>Unknown</td>\n",
       "      <td>Norovirus genogroup II</td>\n",
       "      <td>Confirmed</td>\n",
       "      <td>4</td>\n",
       "      <td>0.0</td>\n",
       "      <td>0.0</td>\n",
       "      <td>WI</td>\n",
       "    </tr>\n",
       "    <tr>\n",
       "      <th>19115</th>\n",
       "      <td>2015</td>\n",
       "      <td>December</td>\n",
       "      <td>Wisconsin</td>\n",
       "      <td>Private Home/Residence</td>\n",
       "      <td>Salsa</td>\n",
       "      <td>Norovirus genogroup II</td>\n",
       "      <td>Confirmed</td>\n",
       "      <td>16</td>\n",
       "      <td>0.0</td>\n",
       "      <td>0.0</td>\n",
       "      <td>WI</td>\n",
       "    </tr>\n",
       "    <tr>\n",
       "      <th>19116</th>\n",
       "      <td>2015</td>\n",
       "      <td>December</td>\n",
       "      <td>Wisconsin</td>\n",
       "      <td>Nursing Home/Assisted Living Facility</td>\n",
       "      <td>Unknown</td>\n",
       "      <td>Norovirus genogroup II</td>\n",
       "      <td>Confirmed</td>\n",
       "      <td>43</td>\n",
       "      <td>3.0</td>\n",
       "      <td>0.0</td>\n",
       "      <td>WI</td>\n",
       "    </tr>\n",
       "    <tr>\n",
       "      <th>19117</th>\n",
       "      <td>2015</td>\n",
       "      <td>December</td>\n",
       "      <td>Wisconsin</td>\n",
       "      <td>Fast Food Restaurant</td>\n",
       "      <td>Unknown</td>\n",
       "      <td>Norovirus genogroup II</td>\n",
       "      <td>Confirmed</td>\n",
       "      <td>5</td>\n",
       "      <td>0.0</td>\n",
       "      <td>0.0</td>\n",
       "      <td>WI</td>\n",
       "    </tr>\n",
       "    <tr>\n",
       "      <th>19118</th>\n",
       "      <td>2015</td>\n",
       "      <td>December</td>\n",
       "      <td>Wyoming</td>\n",
       "      <td>Unknown</td>\n",
       "      <td>Unknown</td>\n",
       "      <td>Unknown</td>\n",
       "      <td>Unknown</td>\n",
       "      <td>3</td>\n",
       "      <td>0.0</td>\n",
       "      <td>0.0</td>\n",
       "      <td>WY</td>\n",
       "    </tr>\n",
       "  </tbody>\n",
       "</table>\n",
       "<p>19119 rows × 11 columns</p>\n",
       "</div>"
      ],
      "text/plain": [
       "       Year     Month       State                               Location  \\\n",
       "0      1998   January  California                             Restaurant   \n",
       "1      1998   January  California                                Unknown   \n",
       "2      1998   January  California                             Restaurant   \n",
       "3      1998   January  California                             Restaurant   \n",
       "4      1998   January  California                 Private Home/Residence   \n",
       "...     ...       ...         ...                                    ...   \n",
       "19114  2015  December   Wisconsin                             Restaurant   \n",
       "19115  2015  December   Wisconsin                 Private Home/Residence   \n",
       "19116  2015  December   Wisconsin  Nursing Home/Assisted Living Facility   \n",
       "19117  2015  December   Wisconsin                   Fast Food Restaurant   \n",
       "19118  2015  December     Wyoming                                Unknown   \n",
       "\n",
       "                                    Food                 Species     Status  \\\n",
       "0                                Unknown                 Unknown    Unknown   \n",
       "1                                Custard                 Unknown    Unknown   \n",
       "2                                Unknown                 Unknown    Unknown   \n",
       "3                              Fish, Ahi         Scombroid toxin  Confirmed   \n",
       "4      Lasagna, Unspecified; Eggs, Other     Salmonella enterica  Confirmed   \n",
       "...                                  ...                     ...        ...   \n",
       "19114                            Unknown  Norovirus genogroup II  Confirmed   \n",
       "19115                              Salsa  Norovirus genogroup II  Confirmed   \n",
       "19116                            Unknown  Norovirus genogroup II  Confirmed   \n",
       "19117                            Unknown  Norovirus genogroup II  Confirmed   \n",
       "19118                            Unknown                 Unknown    Unknown   \n",
       "\n",
       "       Illnesses  Hospitalizations  Fatalities FISP  \n",
       "0             20               0.0         0.0   CA  \n",
       "1            112               0.0         0.0   CA  \n",
       "2             35               0.0         0.0   CA  \n",
       "3              4               0.0         0.0   CA  \n",
       "4             26               3.0         0.0   CA  \n",
       "...          ...               ...         ...  ...  \n",
       "19114          4               0.0         0.0   WI  \n",
       "19115         16               0.0         0.0   WI  \n",
       "19116         43               3.0         0.0   WI  \n",
       "19117          5               0.0         0.0   WI  \n",
       "19118          3               0.0         0.0   WY  \n",
       "\n",
       "[19119 rows x 11 columns]"
      ]
     },
     "execution_count": 13,
     "metadata": {},
     "output_type": "execute_result"
    }
   ],
   "source": [
    "\n",
    "outbreaks1['FISP'] ='NULL'\n",
    "for i in range(0,19119):\n",
    "    if(outbreaks1['State'][i] == 'Alabama'):\n",
    "        outbreaks1['FISP'][i] = 'AL'\n",
    "    elif(outbreaks1['State'][i] == 'Alaska'):\n",
    "        outbreaks1['FISP'][i] = 'AK'\n",
    "    elif(outbreaks1['State'][i] == 'Arizona'):\n",
    "        outbreaks1['FISP'][i] = 'AZ'\n",
    "    elif(outbreaks1['State'][i] == 'Arkansas'):\n",
    "        outbreaks1['FISP'][i] = 'AR'\n",
    "    elif(outbreaks1['State'][i] == 'California'):\n",
    "        outbreaks1['FISP'][i] = 'CA'\n",
    "    elif(outbreaks1['State'][i] == 'Colorado'):\n",
    "        outbreaks1['FISP'][i] = 'CO'\n",
    "    elif(outbreaks1['State'][i] == 'Connecticut'):\n",
    "        outbreaks1['FISP'][i] = 'CT'\n",
    "    elif(outbreaks1['State'][i] == 'Delaware'):\n",
    "        outbreaks1['FISP'][i] = 'DE'\n",
    "    elif(outbreaks1['State'][i] == 'Florida'):\n",
    "        outbreaks1['FISP'][i] = 'FL'\n",
    "    elif(outbreaks1['State'][i] == 'Georgia'):\n",
    "        outbreaks1['FISP'][i] = 'GA'\n",
    "    elif(outbreaks1['State'][i] == 'Hawaii'):\n",
    "        outbreaks1['FISP'][i] = 'HI'\n",
    "    elif(outbreaks1['State'][i] == 'Idaho'):\n",
    "        outbreaks1['FISP'][i] = 'ID'\n",
    "    elif(outbreaks1['State'][i] == 'Illinois'):\n",
    "        outbreaks1['FISP'][i] = 'IL'\n",
    "    elif(outbreaks1['State'][i] == 'Indiana'):\n",
    "        outbreaks1['FISP'][i] = 'IN'\n",
    "    elif(outbreaks1['State'][i] == 'Iowa'):\n",
    "        outbreaks1['FISP'][i] = 'IA'\n",
    "    elif(outbreaks1['State'][i] == 'Kansas'):\n",
    "        outbreaks1['FISP'][i] = 'KS'\n",
    "    elif(outbreaks1['State'][i] == 'Kentucky'):\n",
    "        outbreaks1['FISP'][i] = 'KY'\n",
    "    elif(outbreaks1['State'][i] == 'Louisiana'):\n",
    "        outbreaks1['FISP'][i] = 'LA'\n",
    "    elif(outbreaks1['State'][i] == 'Maine'):\n",
    "        outbreaks1['FISP'][i] = 'ME'\n",
    "    elif(outbreaks1['State'][i] == 'Maryland'):\n",
    "        outbreaks1['FISP'][i] = 'MD'\n",
    "    elif(outbreaks1['State'][i] == 'Massachusetts'):\n",
    "        outbreaks1['FISP'][i] = 'MA'\n",
    "    elif(outbreaks1['State'][i] == 'Michigan'):\n",
    "        outbreaks1['FISP'][i] = 'MI'\n",
    "    elif(outbreaks1['State'][i] == 'Minnesota'):\n",
    "        outbreaks1['FISP'][i] = 'MN'\n",
    "    elif(outbreaks1['State'][i] == 'Mississippi'):\n",
    "        outbreaks1['FISP'][i] = 'MS'\n",
    "    elif(outbreaks1['State'][i] == 'Missouri'):\n",
    "        outbreaks1['FISP'][i] = 'MO'\n",
    "    elif(outbreaks1['State'][i] == 'Montana'):\n",
    "        outbreaks1['FISP'][i] = 'MT'\n",
    "    elif(outbreaks1['State'][i] == 'Nebraska'):\n",
    "        outbreaks1['FISP'][i] = 'NE'\n",
    "    elif(outbreaks1['State'][i] == 'Nevada'):\n",
    "        outbreaks1['FISP'][i] = 'NV'\n",
    "    elif(outbreaks1['State'][i] == 'New Hampshire'):\n",
    "        outbreaks1['FISP'][i] = 'NH'\n",
    "    elif(outbreaks1['State'][i] == 'New Jersey'):\n",
    "        outbreaks1['FISP'][i] = 'NJ'\n",
    "    elif(outbreaks1['State'][i] == 'New Mexico'):\n",
    "        outbreaks1['FISP'][i] = 'NM'\n",
    "    elif(outbreaks1['State'][i] == 'New York'):\n",
    "        outbreaks1['FISP'][i] = 'NY'\n",
    "    elif(outbreaks1['State'][i] == 'North Carolina'):\n",
    "        outbreaks1['FISP'][i] = 'NC'\n",
    "    elif(outbreaks1['State'][i] == 'North Dakota'):\n",
    "        outbreaks1['FISP'][i] = 'ND'\n",
    "    elif(outbreaks1['State'][i] == 'Ohio'):\n",
    "        outbreaks1['FISP'][i] = 'OH'\n",
    "    elif(outbreaks1['State'][i] == 'Oklahoma'):\n",
    "        outbreaks1['FISP'][i] = 'OK'\n",
    "    elif(outbreaks1['State'][i] == 'Oregon'):\n",
    "        outbreaks1['FISP'][i] = 'OR'\n",
    "    elif(outbreaks1['State'][i] == 'Pennsylvania'):\n",
    "        outbreaks1['FISP'][i] = 'PA'\n",
    "    elif(outbreaks1['State'][i] == 'Rhode Island'):\n",
    "        outbreaks1['FISP'][i] = 'RI'\n",
    "    elif(outbreaks1['State'][i] == 'South Carolina'):\n",
    "        outbreaks1['FISP'][i] = 'SC'\n",
    "    elif(outbreaks1['State'][i] == 'South Dakota'):\n",
    "        outbreaks1['FISP'][i] = 'SD'\n",
    "    elif(outbreaks1['State'][i] == 'Tennessee'):\n",
    "        outbreaks1['FISP'][i] = 'TN'\n",
    "    elif(outbreaks1['State'][i] == 'Texas'):\n",
    "        outbreaks1['FISP'][i] = 'TX'\n",
    "    elif(outbreaks1['State'][i] == 'Utah'):\n",
    "        outbreaks1['FISP'][i] = 'UT'\n",
    "    elif(outbreaks1['State'][i] == 'Vermont'):\n",
    "        outbreaks1['FISP'][i] = 'VT'\n",
    "    elif(outbreaks1['State'][i] == 'Virginia'):\n",
    "        outbreaks1['FISP'][i] = 'VA'\n",
    "    elif(outbreaks1['State'][i] == 'Washington'):\n",
    "        outbreaks1['FISP'][i] = 'WA'\n",
    "    elif(outbreaks1['State'][i] == 'West Virginia'):\n",
    "        outbreaks1['FISP'][i] = 'WV'\n",
    "    elif(outbreaks1['State'][i] == 'Wisconsin'):\n",
    "        outbreaks1['FISP'][i] = 'WI'\n",
    "    elif(outbreaks1['State'][i] == 'Wyoming'):\n",
    "        outbreaks1['FISP'][i] = 'WY'\n",
    "    elif(outbreaks1['State'][i] == 'Republic of Palau'):\n",
    "        outbreaks1['FISP'][i] = 'RP'\n",
    "    elif(outbreaks1['State'][i] == 'Guam'):\n",
    "        outbreaks1['FISP'][i] = 'GU'\n",
    "    elif(outbreaks1['State'][i] == 'Washington DC'):\n",
    "        outbreaks1['FISP'][i] = 'WA'\n",
    "    elif(outbreaks1['State'][i] == 'Puerto Rico'):\n",
    "        outbreaks1['FISP'][i] = 'PR'\n",
    "    else:\n",
    "        outbreaks1['FISP'][i] = 'Multi'\n",
    "outbreaks1\n",
    "    \n"
   ]
  },
  {
   "cell_type": "code",
   "execution_count": 14,
   "metadata": {
    "id": "SPG7MsmYgCs8"
   },
   "outputs": [],
   "source": [
    "outbreaks1.to_csv(\"partial_clean(fips).csv\")"
   ]
  },
  {
   "cell_type": "code",
   "execution_count": 15,
   "metadata": {
    "id": "_BF_DlYtgCs8"
   },
   "outputs": [],
   "source": [
    "outbreaks = pd.read_csv(\"partial_clean(fips).csv\")"
   ]
  },
  {
   "cell_type": "code",
   "execution_count": 16,
   "metadata": {
    "id": "GFhP9CIogCs8",
    "outputId": "9e764a0b-9885-4486-aacd-4fe395cf6657"
   },
   "outputs": [
    {
     "data": {
      "text/plain": [
       "array(['Alabama', 'Alaska', 'Arizona', 'Arkansas', 'California',\n",
       "       'Colorado', 'Connecticut', 'Delaware', 'Florida', 'Georgia',\n",
       "       'Guam', 'Hawaii', 'Idaho', 'Illinois', 'Indiana', 'Iowa', 'Kansas',\n",
       "       'Kentucky', 'Louisiana', 'Maine', 'Maryland', 'Massachusetts',\n",
       "       'Michigan', 'Minnesota', 'Mississippi', 'Missouri', 'Montana',\n",
       "       'Multistate', 'Nebraska', 'Nevada', 'New Hampshire', 'New Jersey',\n",
       "       'New Mexico', 'New York', 'North Carolina', 'North Dakota', 'Ohio',\n",
       "       'Oklahoma', 'Oregon', 'Pennsylvania', 'Puerto Rico',\n",
       "       'Republic of Palau', 'Rhode Island', 'South Carolina',\n",
       "       'South Dakota', 'Tennessee', 'Texas', 'Utah', 'Vermont',\n",
       "       'Virginia', 'Washington', 'Washington DC', 'West Virginia',\n",
       "       'Wisconsin', 'Wyoming'], dtype=object)"
      ]
     },
     "execution_count": 16,
     "metadata": {},
     "output_type": "execute_result"
    }
   ],
   "source": [
    "np.unique(outbreaks.State.values)\n",
    "# Washington DC can be appended to Washington\n",
    "#Republic of Palau, Puerto Rico, Guam are extra"
   ]
  },
  {
   "cell_type": "code",
   "execution_count": 17,
   "metadata": {
    "id": "8u0kU66UgCs9",
    "outputId": "7b0e56e3-adc8-4d2a-8c8b-f7275d544d2f"
   },
   "outputs": [
    {
     "data": {
      "text/plain": [
       "array(['AK', 'AL', 'AR', 'AZ', 'CA', 'CO', 'CT', 'DE', 'FL', 'GA', 'GU',\n",
       "       'HI', 'IA', 'ID', 'IL', 'IN', 'KS', 'KY', 'LA', 'MA', 'MD', 'ME',\n",
       "       'MI', 'MN', 'MO', 'MS', 'MT', 'Multi', 'NC', 'ND', 'NE', 'NH',\n",
       "       'NJ', 'NM', 'NV', 'NY', 'OH', 'OK', 'OR', 'PA', 'PR', 'RI', 'RP',\n",
       "       'SC', 'SD', 'TN', 'TX', 'UT', 'VA', 'VT', 'WA', 'WI', 'WV', 'WY'],\n",
       "      dtype=object)"
      ]
     },
     "execution_count": 17,
     "metadata": {},
     "output_type": "execute_result"
    }
   ],
   "source": [
    "np.unique(outbreaks.FISP.values)"
   ]
  },
  {
   "cell_type": "code",
   "execution_count": 18,
   "metadata": {
    "id": "UL6XfKr4gCs9",
    "outputId": "5afdeb97-816a-49ef-cda2-26870ec5838f"
   },
   "outputs": [
    {
     "data": {
      "text/plain": [
       "Restaurant                                                10448\n",
       "Unknown                                                    2521\n",
       "Private Home/Residence                                     1681\n",
       "Catering Service                                           1089\n",
       "Banquet Facility                                            367\n",
       "                                                          ...  \n",
       "Other (Describe In Remarks); Unknown                          1\n",
       "Grocery Store; Religious Facility                             1\n",
       "Office/Indoor Workplace; School/College/University            1\n",
       "Restaurant; Hospital; School/College/University               1\n",
       "Restaurant; Private Home/Residence; Religious Facility        1\n",
       "Name: Location, Length: 161, dtype: int64"
      ]
     },
     "execution_count": 18,
     "metadata": {},
     "output_type": "execute_result"
    }
   ],
   "source": [
    "outbreaks['Location'].value_counts(dropna=False)"
   ]
  },
  {
   "cell_type": "code",
   "execution_count": 19,
   "metadata": {
    "id": "3LR-8GARgCs9",
    "outputId": "3ab918ab-3a9a-4345-c3a9-0a8f32e2b391"
   },
   "outputs": [
    {
     "data": {
      "text/plain": [
       "Restaurant                               11094\n",
       "Unknown                                   2521\n",
       "Private Home/Residence                    1989\n",
       "Catering Service                          1140\n",
       "Fast Food Restaurant                       434\n",
       "Banquet Facility                           392\n",
       "School/College/University                  358\n",
       "Grocery Store                              304\n",
       "Prison/Jail                                193\n",
       "Nursing Home/Assisted Living Facility      186\n",
       "Camp                                       120\n",
       "Religious Facility                         110\n",
       "Office/Indoor Workplace                    105\n",
       "Fair/Festival                               83\n",
       "Hospital                                    42\n",
       "Child Daycare                               29\n",
       "Farm/Dairy                                   8\n",
       "Restaurant Buffet                            8\n",
       "Ship/Boat                                    1\n",
       "Other (Describe In Remarks)                  1\n",
       "Hotel/Motel                                  1\n",
       "Name: Location, dtype: int64"
      ]
     },
     "execution_count": 19,
     "metadata": {},
     "output_type": "execute_result"
    }
   ],
   "source": [
    "location_split = outbreaks['Location'].str.split('; ')\n",
    "outbreaks['Location'] = location_split.str.get(0)\n",
    "outbreaks['Location'].value_counts(dropna=False)"
   ]
  },
  {
   "cell_type": "code",
   "execution_count": 20,
   "metadata": {
    "id": "WzIadvGrgCs-",
    "outputId": "84357cde-0dcf-4972-aacb-e95d9eb12cf2"
   },
   "outputs": [
    {
     "name": "stdout",
     "output_type": "stream",
     "text": [
      "11796\n"
     ]
    },
    {
     "name": "stderr",
     "output_type": "stream",
     "text": [
      "C:\\ProgramData\\Anaconda3\\lib\\site-packages\\ipykernel_launcher.py:4: SettingWithCopyWarning: \n",
      "A value is trying to be set on a copy of a slice from a DataFrame\n",
      "\n",
      "See the caveats in the documentation: https://pandas.pydata.org/pandas-docs/stable/user_guide/indexing.html#returning-a-view-versus-a-copy\n",
      "  after removing the cwd from sys.path.\n"
     ]
    },
    {
     "data": {
      "text/plain": [
       "'Unknown'"
      ]
     },
     "execution_count": 20,
     "metadata": {},
     "output_type": "execute_result"
    }
   ],
   "source": [
    "for i in range(0,19119):\n",
    "    if(outbreaks['Location'][i] == 'Other (Describe In Remarks)'):\n",
    "      print(i)\n",
    "outbreaks['Location'][11796] = 'Unknown'\n",
    "outbreaks['Location'][11796]"
   ]
  },
  {
   "cell_type": "code",
   "execution_count": 21,
   "metadata": {
    "id": "NdVj4iMcgCs-",
    "outputId": "08fb25bf-3dcd-497e-883a-d62473b5d34c"
   },
   "outputs": [
    {
     "data": {
      "text/plain": [
       "Restaurant                               11094\n",
       "Unknown                                   2522\n",
       "Private Home/Residence                    1989\n",
       "Catering Service                          1140\n",
       "Fast Food Restaurant                       434\n",
       "Banquet Facility                           392\n",
       "School/College/University                  358\n",
       "Grocery Store                              304\n",
       "Prison/Jail                                193\n",
       "Nursing Home/Assisted Living Facility      186\n",
       "Camp                                       120\n",
       "Religious Facility                         110\n",
       "Office/Indoor Workplace                    105\n",
       "Fair/Festival                               83\n",
       "Hospital                                    42\n",
       "Child Daycare                               29\n",
       "Farm/Dairy                                   8\n",
       "Restaurant Buffet                            8\n",
       "Ship/Boat                                    1\n",
       "Hotel/Motel                                  1\n",
       "Name: Location, dtype: int64"
      ]
     },
     "execution_count": 21,
     "metadata": {},
     "output_type": "execute_result"
    }
   ],
   "source": [
    "outbreaks['Location'].value_counts(dropna=False)\n",
    "# The location column is cleaned up and all the values are added up to the first contextual data description."
   ]
  },
  {
   "cell_type": "code",
   "execution_count": 22,
   "metadata": {
    "id": "mprCK1dcgCs-",
    "outputId": "fdb46ef5-2d7e-439d-ccf3-1e4d07462303"
   },
   "outputs": [
    {
     "ename": "NameError",
     "evalue": "name 'outbreaksoutbreaks1' is not defined",
     "output_type": "error",
     "traceback": [
      "\u001b[1;31m---------------------------------------------------------------------------\u001b[0m",
      "\u001b[1;31mNameError\u001b[0m                                 Traceback (most recent call last)",
      "\u001b[1;32m<ipython-input-22-68727a2d29c4>\u001b[0m in \u001b[0;36m<module>\u001b[1;34m\u001b[0m\n\u001b[1;32m----> 1\u001b[1;33m \u001b[0mspecies_split\u001b[0m \u001b[1;33m=\u001b[0m \u001b[0moutbreaksoutbreaks1\u001b[0m\u001b[1;33m[\u001b[0m\u001b[1;34m'Food'\u001b[0m\u001b[1;33m]\u001b[0m\u001b[1;33m.\u001b[0m\u001b[0mvalue_counts\u001b[0m\u001b[1;33m(\u001b[0m\u001b[0mdropna\u001b[0m\u001b[1;33m=\u001b[0m\u001b[1;32mFalse\u001b[0m\u001b[1;33m)\u001b[0m\u001b[1;33m[\u001b[0m\u001b[1;34m'Species'\u001b[0m\u001b[1;33m]\u001b[0m\u001b[1;33m.\u001b[0m\u001b[0mstr\u001b[0m\u001b[1;33m.\u001b[0m\u001b[0msplit\u001b[0m\u001b[1;33m(\u001b[0m\u001b[1;34m'; '\u001b[0m\u001b[1;33m)\u001b[0m\u001b[1;33m\u001b[0m\u001b[1;33m\u001b[0m\u001b[0m\n\u001b[0m\u001b[0;32m      2\u001b[0m \u001b[0moutbreaks\u001b[0m\u001b[1;33m[\u001b[0m\u001b[1;34m'Species'\u001b[0m\u001b[1;33m]\u001b[0m \u001b[1;33m=\u001b[0m \u001b[0mspecies_split\u001b[0m\u001b[1;33m.\u001b[0m\u001b[0mstr\u001b[0m\u001b[1;33m.\u001b[0m\u001b[0mget\u001b[0m\u001b[1;33m(\u001b[0m\u001b[1;36m0\u001b[0m\u001b[1;33m)\u001b[0m\u001b[1;33m\u001b[0m\u001b[1;33m\u001b[0m\u001b[0m\n\u001b[0;32m      3\u001b[0m \u001b[0moutbreaks\u001b[0m\u001b[1;33m[\u001b[0m\u001b[1;34m'Species'\u001b[0m\u001b[1;33m]\u001b[0m\u001b[1;33m.\u001b[0m\u001b[0mvalue_counts\u001b[0m\u001b[1;33m(\u001b[0m\u001b[0mdropna\u001b[0m\u001b[1;33m=\u001b[0m\u001b[1;32mFalse\u001b[0m\u001b[1;33m)\u001b[0m\u001b[1;33m\u001b[0m\u001b[1;33m\u001b[0m\u001b[0m\n",
      "\u001b[1;31mNameError\u001b[0m: name 'outbreaksoutbreaks1' is not defined"
     ]
    }
   ],
   "source": [
    "species_split = outbreaksoutbreaks1['Food'].value_counts(dropna=False)['Species'].str.split('; ')\n",
    "outbreaks['Species'] = species_split.str.get(0)\n",
    "outbreaks['Species'].value_counts(dropna=False)"
   ]
  },
  {
   "cell_type": "code",
   "execution_count": null,
   "metadata": {
    "id": "tX7qEkoqgCs_",
    "outputId": "e8f86323-c06f-43bf-a7d6-ae470a267440"
   },
   "outputs": [],
   "source": [
    "food_split = outbreaks['Food'].str.split('; ')\n",
    "outbreaks['Food'] = food_split.str.get(0)\n",
    "outbreaks['Food'].value_counts(dropna=False)"
   ]
  },
  {
   "cell_type": "code",
   "execution_count": null,
   "metadata": {
    "id": "bvjTxqyDgCs_"
   },
   "outputs": [],
   "source": [
    "outbreaks.to_csv(\"final_clean_idsfp.csv\")"
   ]
  },
  {
   "cell_type": "code",
   "execution_count": null,
   "metadata": {
    "id": "pPiWsviQgCs_",
    "outputId": "c6c4652d-46eb-4ec2-a351-c2e76a58f448"
   },
   "outputs": [],
   "source": [
    "outbreaks.isnull().sum()"
   ]
  },
  {
   "cell_type": "code",
   "execution_count": null,
   "metadata": {
    "id": "U23SVV5xgCs_"
   },
   "outputs": [],
   "source": []
  }
 ],
 "metadata": {
  "colab": {
   "name": "data_cleaning.ipynb",
   "provenance": []
  },
  "kernelspec": {
   "display_name": "Python 3",
   "language": "python",
   "name": "python3"
  },
  "language_info": {
   "codemirror_mode": {
    "name": "ipython",
    "version": 3
   },
   "file_extension": ".py",
   "mimetype": "text/x-python",
   "name": "python",
   "nbconvert_exporter": "python",
   "pygments_lexer": "ipython3",
   "version": "3.7.6"
  }
 },
 "nbformat": 4,
 "nbformat_minor": 1
}
